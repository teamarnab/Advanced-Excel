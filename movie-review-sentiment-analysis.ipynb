{
 "cells": [
  {
   "cell_type": "code",
   "execution_count": 1,
   "id": "f0bf3773",
   "metadata": {
    "_cell_guid": "b1076dfc-b9ad-4769-8c92-a6c4dae69d19",
    "_uuid": "8f2839f25d086af736a60e9eeb907d3b93b6e0e5",
    "execution": {
     "iopub.execute_input": "2025-02-02T03:20:07.080650Z",
     "iopub.status.busy": "2025-02-02T03:20:07.080291Z",
     "iopub.status.idle": "2025-02-02T03:20:09.655212Z",
     "shell.execute_reply": "2025-02-02T03:20:09.654193Z"
    },
    "papermill": {
     "duration": 2.585259,
     "end_time": "2025-02-02T03:20:09.656948",
     "exception": false,
     "start_time": "2025-02-02T03:20:07.071689",
     "status": "completed"
    },
    "tags": []
   },
   "outputs": [
    {
     "data": {
      "text/plain": [
       "'\\n# Input data files are available in the read-only \"../input/\" directory\\n# For example, running this (by clicking run or pressing Shift+Enter) will list all files under the input directory\\n\\nimport os\\nfor dirname, _, filenames in os.walk(\\'/kaggle/input\\'):\\n    for filename in filenames:\\n        print(os.path.join(dirname, filename))\\n\\n# You can write up to 20GB to the current directory (/kaggle/working/) that gets preserved as output when you create a version using \"Save & Run All\" \\n# You can also write temporary files to /kaggle/temp/, but they won\\'t be saved outside of the current session\\n'"
      ]
     },
     "execution_count": 1,
     "metadata": {},
     "output_type": "execute_result"
    }
   ],
   "source": [
    "# Data reading, transforming ibraries\n",
    "import os\n",
    "import numpy as np\n",
    "import pandas as pd\n",
    "import matplotlib.pyplot as plt\n",
    "\n",
    "# Text processing libraries \n",
    "import re\n",
    "from nltk.corpus import stopwords\n",
    "from nltk.tokenize import word_tokenize\n",
    "from nltk.stem.porter import PorterStemmer\n",
    "stemmer = PorterStemmer()\n",
    "from sklearn.feature_extraction.text import CountVectorizer\n",
    "vectorizer = CountVectorizer()\n",
    "\n",
    "# Model selection an training libraries\n",
    "from sklearn.model_selection import train_test_split\n",
    "from sklearn.naive_bayes import MultinomialNB\n",
    "\n",
    "# Library for scoring and accuracy of model\n",
    "from sklearn.metrics import accuracy_score\n",
    "\n",
    "'''\n",
    "# Input data files are available in the read-only \"../input/\" directory\n",
    "# For example, running this (by clicking run or pressing Shift+Enter) will list all files under the input directory\n",
    "\n",
    "import os\n",
    "for dirname, _, filenames in os.walk('/kaggle/input'):\n",
    "    for filename in filenames:\n",
    "        print(os.path.join(dirname, filename))\n",
    "\n",
    "# You can write up to 20GB to the current directory (/kaggle/working/) that gets preserved as output when you create a version using \"Save & Run All\" \n",
    "# You can also write temporary files to /kaggle/temp/, but they won't be saved outside of the current session\n",
    "'''"
   ]
  },
  {
   "cell_type": "markdown",
   "id": "8a968272",
   "metadata": {
    "papermill": {
     "duration": 0.00524,
     "end_time": "2025-02-02T03:20:09.668242",
     "exception": false,
     "start_time": "2025-02-02T03:20:09.663002",
     "status": "completed"
    },
    "tags": []
   },
   "source": [
    "### Reading data"
   ]
  },
  {
   "cell_type": "code",
   "execution_count": 2,
   "id": "be42783d",
   "metadata": {
    "execution": {
     "iopub.execute_input": "2025-02-02T03:20:09.680838Z",
     "iopub.status.busy": "2025-02-02T03:20:09.680320Z",
     "iopub.status.idle": "2025-02-02T03:20:09.768274Z",
     "shell.execute_reply": "2025-02-02T03:20:09.767177Z"
    },
    "papermill": {
     "duration": 0.095992,
     "end_time": "2025-02-02T03:20:09.769933",
     "exception": false,
     "start_time": "2025-02-02T03:20:09.673941",
     "status": "completed"
    },
    "tags": []
   },
   "outputs": [
    {
     "name": "stdout",
     "output_type": "stream",
     "text": [
      "Extraction complete!\n",
      "Extraction complete!\n"
     ]
    }
   ],
   "source": [
    "import zipfile\n",
    "\n",
    "train_zip_file_path = \"/kaggle/input/sentiment-analysis-on-movie-reviews/train.tsv.zip\"\n",
    "test_zip_file_path = \"/kaggle/input/sentiment-analysis-on-movie-reviews/test.tsv.zip\"\n",
    "paths = [train_zip_file_path, test_zip_file_path]\n",
    "extract_path = \"/kaggle/working/\"\n",
    "\n",
    "# Extract if the file exists\n",
    "for path in paths:\n",
    "    if os.path.exists(path):\n",
    "        with zipfile.ZipFile(path, 'r') as zip_ref:\n",
    "            zip_ref.extractall(extract_path)\n",
    "            print(\"Extraction complete!\")\n",
    "    else:\n",
    "        print(\"Error: File not found.\")"
   ]
  },
  {
   "cell_type": "code",
   "execution_count": 3,
   "id": "fcafbe10",
   "metadata": {
    "execution": {
     "iopub.execute_input": "2025-02-02T03:20:09.782829Z",
     "iopub.status.busy": "2025-02-02T03:20:09.782439Z",
     "iopub.status.idle": "2025-02-02T03:20:10.664602Z",
     "shell.execute_reply": "2025-02-02T03:20:10.663572Z"
    },
    "papermill": {
     "duration": 0.890198,
     "end_time": "2025-02-02T03:20:10.666085",
     "exception": false,
     "start_time": "2025-02-02T03:20:09.775887",
     "status": "completed"
    },
    "tags": []
   },
   "outputs": [
    {
     "name": "stdout",
     "output_type": "stream",
     "text": [
      "Reading successful\n"
     ]
    }
   ],
   "source": [
    "# Setting file path to read tsv file\n",
    "training_set_file_path = \"/kaggle/working/train.tsv\"  # Update this path if necessary\n",
    "\n",
    "\n",
    "try:\n",
    "    movie_data = pd.read_csv(training_set_file_path, sep=\"\\t\", on_bad_lines=\"skip\", engine=\"python\")\n",
    "    print(\"Reading successful\")  # Display the first few rows\n",
    "except Exception as e:\n",
    "    print(\"Error:\", e)\n"
   ]
  },
  {
   "cell_type": "markdown",
   "id": "48ea1bab",
   "metadata": {
    "papermill": {
     "duration": 0.005407,
     "end_time": "2025-02-02T03:20:10.677444",
     "exception": false,
     "start_time": "2025-02-02T03:20:10.672037",
     "status": "completed"
    },
    "tags": []
   },
   "source": [
    "### Knowing dataset | Data analysis"
   ]
  },
  {
   "cell_type": "code",
   "execution_count": 4,
   "id": "d703924d",
   "metadata": {
    "execution": {
     "iopub.execute_input": "2025-02-02T03:20:10.689959Z",
     "iopub.status.busy": "2025-02-02T03:20:10.689616Z",
     "iopub.status.idle": "2025-02-02T03:20:10.707050Z",
     "shell.execute_reply": "2025-02-02T03:20:10.706022Z"
    },
    "papermill": {
     "duration": 0.025643,
     "end_time": "2025-02-02T03:20:10.708806",
     "exception": false,
     "start_time": "2025-02-02T03:20:10.683163",
     "status": "completed"
    },
    "tags": []
   },
   "outputs": [
    {
     "data": {
      "text/html": [
       "<div>\n",
       "<style scoped>\n",
       "    .dataframe tbody tr th:only-of-type {\n",
       "        vertical-align: middle;\n",
       "    }\n",
       "\n",
       "    .dataframe tbody tr th {\n",
       "        vertical-align: top;\n",
       "    }\n",
       "\n",
       "    .dataframe thead th {\n",
       "        text-align: right;\n",
       "    }\n",
       "</style>\n",
       "<table border=\"1\" class=\"dataframe\">\n",
       "  <thead>\n",
       "    <tr style=\"text-align: right;\">\n",
       "      <th></th>\n",
       "      <th>PhraseId</th>\n",
       "      <th>SentenceId</th>\n",
       "      <th>Phrase</th>\n",
       "      <th>Sentiment</th>\n",
       "    </tr>\n",
       "  </thead>\n",
       "  <tbody>\n",
       "    <tr>\n",
       "      <th>0</th>\n",
       "      <td>1</td>\n",
       "      <td>1</td>\n",
       "      <td>A series of escapades demonstrating the adage ...</td>\n",
       "      <td>1</td>\n",
       "    </tr>\n",
       "    <tr>\n",
       "      <th>1</th>\n",
       "      <td>2</td>\n",
       "      <td>1</td>\n",
       "      <td>A series of escapades demonstrating the adage ...</td>\n",
       "      <td>2</td>\n",
       "    </tr>\n",
       "    <tr>\n",
       "      <th>2</th>\n",
       "      <td>3</td>\n",
       "      <td>1</td>\n",
       "      <td>A series</td>\n",
       "      <td>2</td>\n",
       "    </tr>\n",
       "    <tr>\n",
       "      <th>3</th>\n",
       "      <td>4</td>\n",
       "      <td>1</td>\n",
       "      <td>A</td>\n",
       "      <td>2</td>\n",
       "    </tr>\n",
       "    <tr>\n",
       "      <th>4</th>\n",
       "      <td>5</td>\n",
       "      <td>1</td>\n",
       "      <td>series</td>\n",
       "      <td>2</td>\n",
       "    </tr>\n",
       "  </tbody>\n",
       "</table>\n",
       "</div>"
      ],
      "text/plain": [
       "   PhraseId  SentenceId                                             Phrase  \\\n",
       "0         1           1  A series of escapades demonstrating the adage ...   \n",
       "1         2           1  A series of escapades demonstrating the adage ...   \n",
       "2         3           1                                           A series   \n",
       "3         4           1                                                  A   \n",
       "4         5           1                                             series   \n",
       "\n",
       "   Sentiment  \n",
       "0          1  \n",
       "1          2  \n",
       "2          2  \n",
       "3          2  \n",
       "4          2  "
      ]
     },
     "execution_count": 4,
     "metadata": {},
     "output_type": "execute_result"
    }
   ],
   "source": [
    "# Checking the first five rows\n",
    "movie_data.head()"
   ]
  },
  {
   "cell_type": "code",
   "execution_count": 5,
   "id": "8d29d866",
   "metadata": {
    "execution": {
     "iopub.execute_input": "2025-02-02T03:20:10.722021Z",
     "iopub.status.busy": "2025-02-02T03:20:10.721645Z",
     "iopub.status.idle": "2025-02-02T03:20:10.726665Z",
     "shell.execute_reply": "2025-02-02T03:20:10.725559Z"
    },
    "papermill": {
     "duration": 0.013232,
     "end_time": "2025-02-02T03:20:10.728157",
     "exception": false,
     "start_time": "2025-02-02T03:20:10.714925",
     "status": "completed"
    },
    "tags": []
   },
   "outputs": [
    {
     "name": "stdout",
     "output_type": "stream",
     "text": [
      "Number of rows: 156060\n",
      "Number of columns: 4\n"
     ]
    }
   ],
   "source": [
    "# Shape of dataset\n",
    "print(f\"Number of rows: {movie_data.shape[0]}\")\n",
    "print(f\"Number of columns: {movie_data.shape[1]}\")"
   ]
  },
  {
   "cell_type": "code",
   "execution_count": 6,
   "id": "a9d0c0e7",
   "metadata": {
    "execution": {
     "iopub.execute_input": "2025-02-02T03:20:10.741636Z",
     "iopub.status.busy": "2025-02-02T03:20:10.741270Z",
     "iopub.status.idle": "2025-02-02T03:20:10.746696Z",
     "shell.execute_reply": "2025-02-02T03:20:10.745787Z"
    },
    "papermill": {
     "duration": 0.01374,
     "end_time": "2025-02-02T03:20:10.748168",
     "exception": false,
     "start_time": "2025-02-02T03:20:10.734428",
     "status": "completed"
    },
    "tags": []
   },
   "outputs": [
    {
     "data": {
      "text/plain": [
       "Index(['PhraseId', 'SentenceId', 'Phrase', 'Sentiment'], dtype='object')"
      ]
     },
     "execution_count": 6,
     "metadata": {},
     "output_type": "execute_result"
    }
   ],
   "source": [
    "# Columns\n",
    "movie_data.columns"
   ]
  },
  {
   "cell_type": "code",
   "execution_count": 7,
   "id": "b05ad672",
   "metadata": {
    "execution": {
     "iopub.execute_input": "2025-02-02T03:20:10.761767Z",
     "iopub.status.busy": "2025-02-02T03:20:10.761374Z",
     "iopub.status.idle": "2025-02-02T03:20:10.780611Z",
     "shell.execute_reply": "2025-02-02T03:20:10.779638Z"
    },
    "papermill": {
     "duration": 0.027721,
     "end_time": "2025-02-02T03:20:10.782261",
     "exception": false,
     "start_time": "2025-02-02T03:20:10.754540",
     "status": "completed"
    },
    "tags": []
   },
   "outputs": [
    {
     "data": {
      "text/plain": [
       "PhraseId      0\n",
       "SentenceId    0\n",
       "Phrase        0\n",
       "Sentiment     0\n",
       "dtype: int64"
      ]
     },
     "execution_count": 7,
     "metadata": {},
     "output_type": "execute_result"
    }
   ],
   "source": [
    "# Null values\n",
    "movie_data.isnull().sum()"
   ]
  },
  {
   "cell_type": "code",
   "execution_count": 8,
   "id": "194beea7",
   "metadata": {
    "execution": {
     "iopub.execute_input": "2025-02-02T03:20:10.795676Z",
     "iopub.status.busy": "2025-02-02T03:20:10.795346Z",
     "iopub.status.idle": "2025-02-02T03:20:10.878825Z",
     "shell.execute_reply": "2025-02-02T03:20:10.877672Z"
    },
    "papermill": {
     "duration": 0.091945,
     "end_time": "2025-02-02T03:20:10.880369",
     "exception": false,
     "start_time": "2025-02-02T03:20:10.788424",
     "status": "completed"
    },
    "tags": []
   },
   "outputs": [
    {
     "name": "stdout",
     "output_type": "stream",
     "text": [
      "Number of unique data per column\n",
      "PhraseId      156060\n",
      "SentenceId      8529\n",
      "Phrase        156060\n",
      "Sentiment          5\n",
      "dtype: int64\n"
     ]
    }
   ],
   "source": [
    "# Unique values and count of unique values\n",
    "print(\"Number of unique data per column\")\n",
    "print(movie_data.nunique())"
   ]
  },
  {
   "cell_type": "code",
   "execution_count": 9,
   "id": "d91ff7f4",
   "metadata": {
    "execution": {
     "iopub.execute_input": "2025-02-02T03:20:10.894251Z",
     "iopub.status.busy": "2025-02-02T03:20:10.893918Z",
     "iopub.status.idle": "2025-02-02T03:20:10.902647Z",
     "shell.execute_reply": "2025-02-02T03:20:10.901500Z"
    },
    "papermill": {
     "duration": 0.017421,
     "end_time": "2025-02-02T03:20:10.904254",
     "exception": false,
     "start_time": "2025-02-02T03:20:10.886833",
     "status": "completed"
    },
    "tags": []
   },
   "outputs": [
    {
     "name": "stdout",
     "output_type": "stream",
     "text": [
      "Sentiment\n",
      "2    79582\n",
      "3    32927\n",
      "1    27273\n",
      "4     9206\n",
      "0     7072\n",
      "Name: count, dtype: int64\n"
     ]
    }
   ],
   "source": [
    "# Count of data per unique value in sentiment column\n",
    "print(movie_data['Sentiment'].value_counts())"
   ]
  },
  {
   "cell_type": "code",
   "execution_count": 10,
   "id": "6e9f5b5c",
   "metadata": {
    "execution": {
     "iopub.execute_input": "2025-02-02T03:20:10.918351Z",
     "iopub.status.busy": "2025-02-02T03:20:10.918041Z",
     "iopub.status.idle": "2025-02-02T03:20:11.225996Z",
     "shell.execute_reply": "2025-02-02T03:20:11.224954Z"
    },
    "papermill": {
     "duration": 0.316975,
     "end_time": "2025-02-02T03:20:11.227647",
     "exception": false,
     "start_time": "2025-02-02T03:20:10.910672",
     "status": "completed"
    },
    "tags": []
   },
   "outputs": [
    {
     "data": {
      "image/png": "[encoded data removed]",
      "text/plain": [
       "<Figure size 640x480 with 1 Axes>"
      ]
     },
     "metadata": {},
     "output_type": "display_data"
    }
   ],
   "source": [
    "# Plotting the count of data per unique value in sentiment column\n",
    "plt.title(\"Distribution of data in target column\")\n",
    "plt.legend\n",
    "movie_data['Sentiment'].value_counts().plot(kind='bar')\n",
    "plt.show()"
   ]
  },
  {
   "cell_type": "markdown",
   "id": "b29ff9cb",
   "metadata": {
    "papermill": {
     "duration": 0.006379,
     "end_time": "2025-02-02T03:20:11.240817",
     "exception": false,
     "start_time": "2025-02-02T03:20:11.234438",
     "status": "completed"
    },
    "tags": []
   },
   "source": [
    "### Splitting data into independent and dependent variables"
   ]
  },
  {
   "cell_type": "code",
   "execution_count": 11,
   "id": "dc9aa468",
   "metadata": {
    "execution": {
     "iopub.execute_input": "2025-02-02T03:20:11.255314Z",
     "iopub.status.busy": "2025-02-02T03:20:11.254997Z",
     "iopub.status.idle": "2025-02-02T03:20:11.258941Z",
     "shell.execute_reply": "2025-02-02T03:20:11.258098Z"
    },
    "papermill": {
     "duration": 0.012793,
     "end_time": "2025-02-02T03:20:11.260333",
     "exception": false,
     "start_time": "2025-02-02T03:20:11.247540",
     "status": "completed"
    },
    "tags": []
   },
   "outputs": [],
   "source": [
    "X = movie_data['Phrase']\n",
    "y = movie_data['Sentiment']"
   ]
  },
  {
   "cell_type": "markdown",
   "id": "1dc30865",
   "metadata": {
    "papermill": {
     "duration": 0.0065,
     "end_time": "2025-02-02T03:20:11.273612",
     "exception": false,
     "start_time": "2025-02-02T03:20:11.267112",
     "status": "completed"
    },
    "tags": []
   },
   "source": [
    "### Text pre-processing"
   ]
  },
  {
   "cell_type": "code",
   "execution_count": 12,
   "id": "7380ee17",
   "metadata": {
    "execution": {
     "iopub.execute_input": "2025-02-02T03:20:11.288019Z",
     "iopub.status.busy": "2025-02-02T03:20:11.287650Z",
     "iopub.status.idle": "2025-02-02T03:20:11.293081Z",
     "shell.execute_reply": "2025-02-02T03:20:11.292265Z"
    },
    "papermill": {
     "duration": 0.014162,
     "end_time": "2025-02-02T03:20:11.294431",
     "exception": false,
     "start_time": "2025-02-02T03:20:11.280269",
     "status": "completed"
    },
    "tags": []
   },
   "outputs": [],
   "source": [
    "# Creating a function for text pre-processing\n",
    "def text_processor(arr):\n",
    "    arr = arr.apply(lambda x:re.sub('[^a-zA-Z]', ' ', x)) # Removing punctuations\n",
    "    arr = arr.apply(lambda x:x.lower())                   # Converting to lower case\n",
    "    arr = arr.apply(lambda x:word_tokenize(x))            # Tokenizing\n",
    "    arr = arr.apply(lambda x:[word for word in x if word not in stopwords.words('english')]) # Removing stopwords\n",
    "    arr = arr.apply(lambda x:[stemmer.stem(word) for word in x])   # Stemming\n",
    "    arr = arr.apply(lambda x:\" \".join(x))                 # Joining words\n",
    "    return arr                                            # Returning processed text column"
   ]
  },
  {
   "cell_type": "code",
   "execution_count": 13,
   "id": "b4e24455",
   "metadata": {
    "execution": {
     "iopub.execute_input": "2025-02-02T03:20:11.309239Z",
     "iopub.status.busy": "2025-02-02T03:20:11.308929Z",
     "iopub.status.idle": "2025-02-02T03:22:35.176689Z",
     "shell.execute_reply": "2025-02-02T03:22:35.175817Z"
    },
    "papermill": {
     "duration": 143.877451,
     "end_time": "2025-02-02T03:22:35.178681",
     "exception": false,
     "start_time": "2025-02-02T03:20:11.301230",
     "status": "completed"
    },
    "tags": []
   },
   "outputs": [],
   "source": [
    "# Processing input text column with text processor function\n",
    "X = text_processor(X)"
   ]
  },
  {
   "cell_type": "code",
   "execution_count": 14,
   "id": "3a3f06a3",
   "metadata": {
    "execution": {
     "iopub.execute_input": "2025-02-02T03:22:35.193996Z",
     "iopub.status.busy": "2025-02-02T03:22:35.193631Z",
     "iopub.status.idle": "2025-02-02T03:22:36.038084Z",
     "shell.execute_reply": "2025-02-02T03:22:36.037241Z"
    },
    "papermill": {
     "duration": 0.853964,
     "end_time": "2025-02-02T03:22:36.039965",
     "exception": false,
     "start_time": "2025-02-02T03:22:35.186001",
     "status": "completed"
    },
    "tags": []
   },
   "outputs": [],
   "source": [
    "# Vectorizing\n",
    "X = vectorizer.fit_transform(X.values)"
   ]
  },
  {
   "cell_type": "markdown",
   "id": "5debb20e",
   "metadata": {
    "papermill": {
     "duration": 0.006534,
     "end_time": "2025-02-02T03:22:36.053565",
     "exception": false,
     "start_time": "2025-02-02T03:22:36.047031",
     "status": "completed"
    },
    "tags": []
   },
   "source": [
    "### Train-test-split"
   ]
  },
  {
   "cell_type": "code",
   "execution_count": 15,
   "id": "dd8f3f06",
   "metadata": {
    "execution": {
     "iopub.execute_input": "2025-02-02T03:22:36.068204Z",
     "iopub.status.busy": "2025-02-02T03:22:36.067879Z",
     "iopub.status.idle": "2025-02-02T03:22:36.097789Z",
     "shell.execute_reply": "2025-02-02T03:22:36.096794Z"
    },
    "papermill": {
     "duration": 0.039206,
     "end_time": "2025-02-02T03:22:36.099503",
     "exception": false,
     "start_time": "2025-02-02T03:22:36.060297",
     "status": "completed"
    },
    "tags": []
   },
   "outputs": [
    {
     "name": "stdout",
     "output_type": "stream",
     "text": [
      "(124848, 10488)\n",
      "(124848,)\n",
      "(31212, 10488)\n",
      "(31212,)\n"
     ]
    }
   ],
   "source": [
    "X_train, X_test, y_train, y_test = train_test_split(X, y, test_size=0.2, random_state=42)\n",
    "\n",
    "print(X_train.shape)\n",
    "print(y_train.shape)\n",
    "print(X_test.shape)\n",
    "print(y_test.shape)"
   ]
  },
  {
   "cell_type": "markdown",
   "id": "04d12b53",
   "metadata": {
    "papermill": {
     "duration": 0.00667,
     "end_time": "2025-02-02T03:22:36.113068",
     "exception": false,
     "start_time": "2025-02-02T03:22:36.106398",
     "status": "completed"
    },
    "tags": []
   },
   "source": [
    "### Model creation, training & scoring"
   ]
  },
  {
   "cell_type": "code",
   "execution_count": 16,
   "id": "6310b6a1",
   "metadata": {
    "execution": {
     "iopub.execute_input": "2025-02-02T03:22:36.127778Z",
     "iopub.status.busy": "2025-02-02T03:22:36.127428Z",
     "iopub.status.idle": "2025-02-02T03:22:36.199236Z",
     "shell.execute_reply": "2025-02-02T03:22:36.198065Z"
    },
    "papermill": {
     "duration": 0.080947,
     "end_time": "2025-02-02T03:22:36.200857",
     "exception": false,
     "start_time": "2025-02-02T03:22:36.119910",
     "status": "completed"
    },
    "tags": []
   },
   "outputs": [
    {
     "name": "stdout",
     "output_type": "stream",
     "text": [
      "Naive bayes model's score is 0.6090606177111367\n"
     ]
    }
   ],
   "source": [
    "# Model creation & training\n",
    "nb_model = MultinomialNB()\n",
    "nb_model.fit(X_train, y_train)\n",
    "\n",
    "# Prediction\n",
    "nb_pred = nb_model.predict(X_test)\n",
    "\n",
    "# Accuracy\n",
    "nb_score = accuracy_score(nb_pred, y_test)\n",
    "print(f\"Naive bayes model's score is {nb_score}\")"
   ]
  },
  {
   "cell_type": "markdown",
   "id": "bc31da0d",
   "metadata": {
    "papermill": {
     "duration": 0.006503,
     "end_time": "2025-02-02T03:22:36.214252",
     "exception": false,
     "start_time": "2025-02-02T03:22:36.207749",
     "status": "completed"
    },
    "tags": []
   },
   "source": [
    "# Predicting Validation set"
   ]
  },
  {
   "cell_type": "code",
   "execution_count": 17,
   "id": "015906f0",
   "metadata": {
    "execution": {
     "iopub.execute_input": "2025-02-02T03:22:36.228637Z",
     "iopub.status.busy": "2025-02-02T03:22:36.228320Z",
     "iopub.status.idle": "2025-02-02T03:22:36.483271Z",
     "shell.execute_reply": "2025-02-02T03:22:36.482310Z"
    },
    "papermill": {
     "duration": 0.263925,
     "end_time": "2025-02-02T03:22:36.484884",
     "exception": false,
     "start_time": "2025-02-02T03:22:36.220959",
     "status": "completed"
    },
    "tags": []
   },
   "outputs": [
    {
     "data": {
      "text/plain": [
       "PhraseId      0\n",
       "SentenceId    0\n",
       "Phrase        1\n",
       "dtype: int64"
      ]
     },
     "execution_count": 17,
     "metadata": {},
     "output_type": "execute_result"
    }
   ],
   "source": [
    "# Reading test set\n",
    "testing_set_file_path = \"/kaggle/working/test.tsv\"\n",
    "submit_set = pd.read_csv(testing_set_file_path, sep=\"\\t\", on_bad_lines=\"skip\", engine=\"python\")\n",
    "submit_set.isna().sum()"
   ]
  },
  {
   "cell_type": "code",
   "execution_count": 18,
   "id": "9622930b",
   "metadata": {
    "execution": {
     "iopub.execute_input": "2025-02-02T03:22:36.500195Z",
     "iopub.status.busy": "2025-02-02T03:22:36.499871Z",
     "iopub.status.idle": "2025-02-02T03:22:36.516582Z",
     "shell.execute_reply": "2025-02-02T03:22:36.515694Z"
    },
    "papermill": {
     "duration": 0.026051,
     "end_time": "2025-02-02T03:22:36.518142",
     "exception": false,
     "start_time": "2025-02-02T03:22:36.492091",
     "status": "completed"
    },
    "tags": []
   },
   "outputs": [
    {
     "data": {
      "text/html": [
       "<div>\n",
       "<style scoped>\n",
       "    .dataframe tbody tr th:only-of-type {\n",
       "        vertical-align: middle;\n",
       "    }\n",
       "\n",
       "    .dataframe tbody tr th {\n",
       "        vertical-align: top;\n",
       "    }\n",
       "\n",
       "    .dataframe thead th {\n",
       "        text-align: right;\n",
       "    }\n",
       "</style>\n",
       "<table border=\"1\" class=\"dataframe\">\n",
       "  <thead>\n",
       "    <tr style=\"text-align: right;\">\n",
       "      <th></th>\n",
       "      <th>PhraseId</th>\n",
       "      <th>SentenceId</th>\n",
       "      <th>Phrase</th>\n",
       "    </tr>\n",
       "  </thead>\n",
       "  <tbody>\n",
       "    <tr>\n",
       "      <th>15519</th>\n",
       "      <td>171580</td>\n",
       "      <td>9213</td>\n",
       "      <td>NaN</td>\n",
       "    </tr>\n",
       "  </tbody>\n",
       "</table>\n",
       "</div>"
      ],
      "text/plain": [
       "       PhraseId  SentenceId Phrase\n",
       "15519    171580        9213    NaN"
      ]
     },
     "execution_count": 18,
     "metadata": {},
     "output_type": "execute_result"
    }
   ],
   "source": [
    "# Checking null value\n",
    "submit_set[submit_set['Phrase'].isna()]"
   ]
  },
  {
   "cell_type": "code",
   "execution_count": 19,
   "id": "92f8e25c",
   "metadata": {
    "execution": {
     "iopub.execute_input": "2025-02-02T03:22:36.533859Z",
     "iopub.status.busy": "2025-02-02T03:22:36.533438Z",
     "iopub.status.idle": "2025-02-02T03:22:36.548604Z",
     "shell.execute_reply": "2025-02-02T03:22:36.547768Z"
    },
    "papermill": {
     "duration": 0.024913,
     "end_time": "2025-02-02T03:22:36.550303",
     "exception": false,
     "start_time": "2025-02-02T03:22:36.525390",
     "status": "completed"
    },
    "tags": []
   },
   "outputs": [],
   "source": [
    "# Makig a constant with a sentence of same 'SentenceId'\n",
    "imputing_constant = submit_set[submit_set['SentenceId']== 9213]['Phrase'].values[0]\n",
    "\n",
    "# Imputing null value\n",
    "submit_set = submit_set.fillna(imputing_constant)"
   ]
  },
  {
   "cell_type": "code",
   "execution_count": 20,
   "id": "abba5f04",
   "metadata": {
    "execution": {
     "iopub.execute_input": "2025-02-02T03:22:36.566017Z",
     "iopub.status.busy": "2025-02-02T03:22:36.565630Z",
     "iopub.status.idle": "2025-02-02T03:23:33.861887Z",
     "shell.execute_reply": "2025-02-02T03:23:33.860774Z"
    },
    "papermill": {
     "duration": 57.306347,
     "end_time": "2025-02-02T03:23:33.863915",
     "exception": false,
     "start_time": "2025-02-02T03:22:36.557568",
     "status": "completed"
    },
    "tags": []
   },
   "outputs": [],
   "source": [
    "# Pre-processing test set\n",
    "submit_X = submit_set['Phrase']\n",
    "submit_X = text_processor(submit_X)\n",
    "submit_X = vectorizer.transform(submit_X.values)\n",
    "submit_pred = nb_model.predict(submit_X)\n",
    "submit_set['Sentiment'] = submit_pred\n",
    "submission = submit_set[['PhraseId', 'Sentiment']]"
   ]
  },
  {
   "cell_type": "code",
   "execution_count": 21,
   "id": "cc747b24",
   "metadata": {
    "execution": {
     "iopub.execute_input": "2025-02-02T03:23:33.879873Z",
     "iopub.status.busy": "2025-02-02T03:23:33.879492Z",
     "iopub.status.idle": "2025-02-02T03:23:33.889301Z",
     "shell.execute_reply": "2025-02-02T03:23:33.888460Z"
    },
    "papermill": {
     "duration": 0.019078,
     "end_time": "2025-02-02T03:23:33.890699",
     "exception": false,
     "start_time": "2025-02-02T03:23:33.871621",
     "status": "completed"
    },
    "tags": []
   },
   "outputs": [
    {
     "data": {
      "text/html": [
       "<div>\n",
       "<style scoped>\n",
       "    .dataframe tbody tr th:only-of-type {\n",
       "        vertical-align: middle;\n",
       "    }\n",
       "\n",
       "    .dataframe tbody tr th {\n",
       "        vertical-align: top;\n",
       "    }\n",
       "\n",
       "    .dataframe thead th {\n",
       "        text-align: right;\n",
       "    }\n",
       "</style>\n",
       "<table border=\"1\" class=\"dataframe\">\n",
       "  <thead>\n",
       "    <tr style=\"text-align: right;\">\n",
       "      <th></th>\n",
       "      <th>PhraseId</th>\n",
       "      <th>Sentiment</th>\n",
       "    </tr>\n",
       "  </thead>\n",
       "  <tbody>\n",
       "    <tr>\n",
       "      <th>0</th>\n",
       "      <td>156061</td>\n",
       "      <td>3</td>\n",
       "    </tr>\n",
       "    <tr>\n",
       "      <th>1</th>\n",
       "      <td>156062</td>\n",
       "      <td>3</td>\n",
       "    </tr>\n",
       "    <tr>\n",
       "      <th>2</th>\n",
       "      <td>156063</td>\n",
       "      <td>2</td>\n",
       "    </tr>\n",
       "    <tr>\n",
       "      <th>3</th>\n",
       "      <td>156064</td>\n",
       "      <td>3</td>\n",
       "    </tr>\n",
       "    <tr>\n",
       "      <th>4</th>\n",
       "      <td>156065</td>\n",
       "      <td>3</td>\n",
       "    </tr>\n",
       "    <tr>\n",
       "      <th>...</th>\n",
       "      <td>...</td>\n",
       "      <td>...</td>\n",
       "    </tr>\n",
       "    <tr>\n",
       "      <th>66287</th>\n",
       "      <td>222348</td>\n",
       "      <td>1</td>\n",
       "    </tr>\n",
       "    <tr>\n",
       "      <th>66288</th>\n",
       "      <td>222349</td>\n",
       "      <td>1</td>\n",
       "    </tr>\n",
       "    <tr>\n",
       "      <th>66289</th>\n",
       "      <td>222350</td>\n",
       "      <td>2</td>\n",
       "    </tr>\n",
       "    <tr>\n",
       "      <th>66290</th>\n",
       "      <td>222351</td>\n",
       "      <td>2</td>\n",
       "    </tr>\n",
       "    <tr>\n",
       "      <th>66291</th>\n",
       "      <td>222352</td>\n",
       "      <td>1</td>\n",
       "    </tr>\n",
       "  </tbody>\n",
       "</table>\n",
       "<p>66292 rows × 2 columns</p>\n",
       "</div>"
      ],
      "text/plain": [
       "       PhraseId  Sentiment\n",
       "0        156061          3\n",
       "1        156062          3\n",
       "2        156063          2\n",
       "3        156064          3\n",
       "4        156065          3\n",
       "...         ...        ...\n",
       "66287    222348          1\n",
       "66288    222349          1\n",
       "66289    222350          2\n",
       "66290    222351          2\n",
       "66291    222352          1\n",
       "\n",
       "[66292 rows x 2 columns]"
      ]
     },
     "execution_count": 21,
     "metadata": {},
     "output_type": "execute_result"
    }
   ],
   "source": [
    "# How submission file looks\n",
    "submission"
   ]
  },
  {
   "cell_type": "code",
   "execution_count": 22,
   "id": "ba76807a",
   "metadata": {
    "execution": {
     "iopub.execute_input": "2025-02-02T03:23:33.907169Z",
     "iopub.status.busy": "2025-02-02T03:23:33.906815Z",
     "iopub.status.idle": "2025-02-02T03:23:33.960006Z",
     "shell.execute_reply": "2025-02-02T03:23:33.959087Z"
    },
    "papermill": {
     "duration": 0.063452,
     "end_time": "2025-02-02T03:23:33.961751",
     "exception": false,
     "start_time": "2025-02-02T03:23:33.898299",
     "status": "completed"
    },
    "tags": []
   },
   "outputs": [],
   "source": [
    "submission.to_csv(\"submission_file.csv\", index=False)"
   ]
  }
 ],
 "metadata": {
  "kaggle": {
   "accelerator": "none",
   "dataSources": [
    {
     "databundleVersionId": 32092,
     "sourceId": 3810,
     "sourceType": "competition"
    }
   ],
   "dockerImageVersionId": 30839,
   "isGpuEnabled": false,
   "isInternetEnabled": true,
   "language": "python",
   "sourceType": "notebook"
  },
  "kernelspec": {
   "display_name": "Python 3",
   "language": "python",
   "name": "python3"
  },
  "language_info": {
   "codemirror_mode": {
    "name": "ipython",
    "version": 3
   },
   "file_extension": ".py",
   "mimetype": "text/x-python",
   "name": "python",
   "nbconvert_exporter": "python",
   "pygments_lexer": "ipython3",
   "version": "3.10.12"
  },
  "papermill": {
   "default_parameters": {},
   "duration": 210.27714,
   "end_time": "2025-02-02T03:23:34.689743",
   "environment_variables": {},
   "exception": null,
   "input_path": "__notebook__.ipynb",
   "output_path": "__notebook__.ipynb",
   "parameters": {},
   "start_time": "2025-02-02T03:20:04.412603",
   "version": "2.6.0"
  }
 },
 "nbformat": 4,
 "nbformat_minor": 5
}
